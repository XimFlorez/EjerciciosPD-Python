{
 "cells": [
  {
   "cell_type": "code",
   "execution_count": 1,
   "metadata": {},
   "outputs": [],
   "source": [
    "import numpy as np\n",
    "import pandas as pd\n",
    "import matplotlib as mlp\n"
   ]
  },
  {
   "cell_type": "code",
   "execution_count": 26,
   "metadata": {},
   "outputs": [
    {
     "name": "stdout",
     "output_type": "stream",
     "text": [
      "[1 4 5 7 8 9 4 3 8 9 4]\n",
      "11\n",
      "7\n",
      "25\n"
     ]
    }
   ],
   "source": [
    "vector = np.array([1,4,5,7,8,9,4,3,8,9,4])\n",
    "print(vector)\n",
    "\n",
    "#Cantidad de elementos que hay en el vector\n",
    "print(len(vector))\n",
    "\n",
    "#Busqueda a través de un índice en el vector\n",
    "print(vector[3])\n",
    "\n",
    "#Actualización de valores del vector\n",
    "vector[3] = 25\n",
    "print(vector[3])"
   ]
  },
  {
   "cell_type": "code",
   "execution_count": 27,
   "metadata": {},
   "outputs": [
    {
     "name": "stdout",
     "output_type": "stream",
     "text": [
      "1\n",
      "4\n",
      "5\n",
      "25\n",
      "8\n",
      "9\n",
      "4\n",
      "3\n",
      "8\n",
      "9\n",
      "4\n"
     ]
    }
   ],
   "source": [
    "#Ciclos\n",
    "for valor in vector:\n",
    "    print(valor)"
   ]
  },
  {
   "cell_type": "markdown",
   "metadata": {},
   "source": [
    "Atributos para 1 Dimensión\n"
   ]
  },
  {
   "cell_type": "code",
   "execution_count": 28,
   "metadata": {},
   "outputs": [
    {
     "name": "stdout",
     "output_type": "stream",
     "text": [
      "Dimensión:  (11,)\n",
      "Tipo de Arreglo:  int64\n",
      "Tamaño del arreglo:  11\n",
      "Dimensiones del arreglo: 1\n"
     ]
    }
   ],
   "source": [
    "#Número de filas y columnas\n",
    "print(\"Dimensión: \",vector.shape)\n",
    "\n",
    "#Tipo de datos de una matriz\n",
    "print(\"Tipo de Arreglo: \", vector.dtype)\n",
    "\n",
    "#Tamaño del Arreglo\n",
    "print(\"Tamaño del arreglo: \",vector.size)\n",
    "\n",
    "#Devuelve la cantidad de dimensiones de una matriz\n",
    "print(\"Dimensiones del arreglo:\",vector.ndim)"
   ]
  },
  {
   "cell_type": "markdown",
   "metadata": {},
   "source": [
    "Métodos:"
   ]
  },
  {
   "cell_type": "code",
   "execution_count": 29,
   "metadata": {},
   "outputs": [
    {
     "name": "stdout",
     "output_type": "stream",
     "text": [
      "51\n",
      "4\n",
      "[ 6  8 11]\n"
     ]
    }
   ],
   "source": [
    "vector1 = np.array([2,3,4])\n",
    "vector2 = np.array([4,5,7])\n",
    "\n",
    "#Np.dot realiza la multiplicación matricial entre dos matrices\n",
    "resultado = np.dot(vector1, vector2)\n",
    "print(resultado)\n",
    "\n",
    "#Valor máximo del array\n",
    "resultado = vector1.max()\n",
    "print(resultado)\n",
    "\n",
    "#Suma de Arrays\n",
    "sumaValor = vector1 + vector2\n",
    "print(sumaValor)"
   ]
  },
  {
   "cell_type": "code",
   "execution_count": 30,
   "metadata": {},
   "outputs": [
    {
     "name": "stdout",
     "output_type": "stream",
     "text": [
      "[5 4 3 2 1] <class 'numpy.ndarray'>\n",
      "Multiplicación Matricial:  96\n",
      "El vector es: [5 4 3 2 1]\n",
      "La suma del vector es:  15\n",
      "El promedio del vector es:  3.0\n",
      "La valor máximo del vector es:  5\n",
      "El valor minímo del vector es:  1\n",
      "Desviación Estándar:  1.41\n"
     ]
    }
   ],
   "source": [
    "#Método np.array crea una matriz a partir de una secuencia de datos\n",
    "lista = [5,4,3,2,1]\n",
    "vector = np.array(lista)\n",
    "print(vector, type(vector))\n",
    "\n",
    "#np.dot realiza una multiplicación matricial entre dos matrices.\n",
    "matriz1 = np.array([2,6,4,8])\n",
    "matriz2 = np.array([1,3,5,7])\n",
    "\n",
    "resultado = np.dot(matriz1, matriz2)\n",
    "print(\"Multiplicación Matricial: \",resultado)\n",
    "\n",
    "#Métodos Estadísticos\n",
    "print(\"El vector es:\",vector)\n",
    "print(\"La suma del vector es: \",vector.sum())\n",
    "print(\"El promedio del vector es: \",vector.mean())\n",
    "print(\"La valor máximo del vector es: \",vector.max())\n",
    "print(\"El valor minímo del vector es: \",vector.min())\n",
    "print(\"Desviación Estándar: \",round(vector.std(), 2))"
   ]
  },
  {
   "cell_type": "markdown",
   "metadata": {},
   "source": [
    "Matriz de 2 Dimensiones:"
   ]
  },
  {
   "cell_type": "code",
   "execution_count": 31,
   "metadata": {},
   "outputs": [
    {
     "name": "stdout",
     "output_type": "stream",
     "text": [
      "[[1 2 3 1]\n",
      " [2 2 2 2]\n",
      " [3 3 3 3]\n",
      " [5 6 7 8]]\n"
     ]
    }
   ],
   "source": [
    "matriz = np.array(([1,2,3,1], [2,2,2,2], [3,3,3,3], [5,6,7,8]))\n",
    "print(matriz)"
   ]
  },
  {
   "cell_type": "code",
   "execution_count": 32,
   "metadata": {},
   "outputs": [
    {
     "name": "stdout",
     "output_type": "stream",
     "text": [
      "4\n",
      "3\n",
      "[[1 2 3 1]\n",
      " [2 2 2 2]\n",
      " [3 3 7 3]\n",
      " [5 6 7 8]]\n",
      "[3 3 7 3]\n"
     ]
    }
   ],
   "source": [
    "#Cantidad de elementos de la matriz\n",
    "print(len(matriz))\n",
    "\n",
    "#Indexación de la Matriz\n",
    "print(matriz[2,2])\n",
    "\n",
    "#Actualización de un valor de la matriz\n",
    "matriz[2,2] = 7\n",
    "print(matriz)\n",
    "\n",
    "# slicing de la matriz [vector, indice_inicial:indice_fianl:paso]\n",
    "print(matriz[2, :])\n",
    "\n",
    "#  Ciclos\n",
    "# for valor in matriz:\n",
    "#   print(valor)"
   ]
  },
  {
   "cell_type": "markdown",
   "metadata": {},
   "source": [
    "Atributos de la Matriz 2D:"
   ]
  },
  {
   "cell_type": "code",
   "execution_count": 33,
   "metadata": {},
   "outputs": [
    {
     "name": "stdout",
     "output_type": "stream",
     "text": [
      "Tipo de Matriz:  int64\n",
      "Tamaño de la Matriz:  16\n",
      "Dimensiones del Arreglo:  2\n",
      "Elementos de cada dimensión de la Matriz:  (4, 4)\n"
     ]
    }
   ],
   "source": [
    "print(\"Tipo de Matriz: \", matriz.dtype)\n",
    "print(\"Tamaño de la Matriz: \", matriz.size)\n",
    "print(\"Dimensiones del Arreglo: \", matriz.ndim)\n",
    "print(\"Elementos de cada dimensión de la Matriz: \", matriz.shape)"
   ]
  },
  {
   "cell_type": "code",
   "execution_count": 34,
   "metadata": {},
   "outputs": [
    {
     "name": "stdout",
     "output_type": "stream",
     "text": [
      "[[1 2 3 4]\n",
      " [9 5 5 7]\n",
      " [6 0 0 8]\n",
      " [3 9 5 6]] <class 'numpy.ndarray'>\n",
      "La suma es: 73\n"
     ]
    }
   ],
   "source": [
    "#Método np.array crea una matriz a partir de una sencuencia de datos\n",
    "lista = [[1,2,3,4],\n",
    "         [9,5,5,7],\n",
    "         [6,0,0,8],\n",
    "         [3,9,5,6]]\n",
    "\n",
    "matriz = np.array(lista)\n",
    "print(matriz, type(matriz))\n",
    "\n",
    "#Métodos estadísticos \n",
    "print(\"La suma es:\",matriz.sum())"
   ]
  },
  {
   "cell_type": "markdown",
   "metadata": {},
   "source": [
    "**Ejercicios de Numpy:**\n"
   ]
  },
  {
   "cell_type": "markdown",
   "metadata": {},
   "source": [
    "1. Crear un arreglo 3x3 de Numpy con todas las entradas igual a True."
   ]
  },
  {
   "cell_type": "code",
   "execution_count": 35,
   "metadata": {},
   "outputs": [
    {
     "name": "stdout",
     "output_type": "stream",
     "text": [
      "[[ True  True  True]\n",
      " [ True  True  True]\n",
      " [ True  True  True]] \n",
      "\n"
     ]
    }
   ],
   "source": [
    "ones = np.ones((3,3), dtype = bool)\n",
    "print(ones, \"\\n\")"
   ]
  },
  {
   "cell_type": "markdown",
   "metadata": {},
   "source": [
    "2. Reemplazar todos los números impares del siguiente arreglo por el valor de -1: arr = np.array([0,1,2,3,4,5,6,7,8,9])"
   ]
  },
  {
   "cell_type": "code",
   "execution_count": 36,
   "metadata": {},
   "outputs": [
    {
     "name": "stdout",
     "output_type": "stream",
     "text": [
      "El array es:  [0 1 2 3 4 5 6 7 8 9]\n",
      "[ 0 -1  2 -1  4 -1  6 -1  8 -1]\n"
     ]
    }
   ],
   "source": [
    "array = np.array([0,1,2,3,4,5,6,7,8,9])\n",
    "print(\"El array es: \",array)\n",
    "\n",
    "array[array %2 == 1] = -1\n",
    "print(array)"
   ]
  },
  {
   "cell_type": "markdown",
   "metadata": {},
   "source": [
    "3. Convertir el siguiente arreglo de 1D a un de 2D: arr = np.array([0,1,2,3,4,5,6,7,8,9])"
   ]
  },
  {
   "cell_type": "code",
   "execution_count": 37,
   "metadata": {},
   "outputs": [
    {
     "name": "stdout",
     "output_type": "stream",
     "text": [
      "\n",
      "Array Reestructurado:\n",
      "[[ 0 -1  2 -1  4]\n",
      " [-1  6 -1  8 -1]]\n"
     ]
    }
   ],
   "source": [
    "array_reshape = array.reshape(2,5)\n",
    "print(\"\\nArray Reestructurado:\")\n",
    "print(array_reshape)"
   ]
  },
  {
   "cell_type": "markdown",
   "metadata": {},
   "source": [
    "---------------------------------------------------"
   ]
  },
  {
   "cell_type": "code",
   "execution_count": null,
   "metadata": {},
   "outputs": [],
   "source": [
    "\n",
    "df_file_csv = pd.read_csv('./Datos/CalificacionesTXT.csv')\n",
    "# df_file_csv.head()\n",
    "# df_file_csv.info()\n",
    "# df_file_csv.describe()\n",
    "\n",
    "# df_column = 'Programa'\n",
    "# print(df_file_csv['Programa']==['Contabilidad'].value_counts())\n",
    "\n",
    "# df_column = 'Programa'\n",
    "# filtro_column = df_file_csv[(df_file_csv['Programa'] == 'Contabilidad') & (df_file_csv['Genero']=='Masculino')]\n",
    "# print(filtro_column)\n",
    "\n",
    "#Contabilidad-Femenino-Matemáticas > 4\n",
    "filtro_mat = df_file_csv[(df_file_csv['Programa']== 'Contabilidad') & (df_file_csv['Genero']=='Masculino') & (df_file_csv['Matematicas'] > '4')]\n",
    "print(filtro_mat)"
   ]
  },
  {
   "cell_type": "markdown",
   "metadata": {},
   "source": [
    "Actividad Netflix:"
   ]
  },
  {
   "cell_type": "code",
   "execution_count": null,
   "metadata": {},
   "outputs": [],
   "source": [
    "df_file_csv = pd.read_csv('./Datos/netflix_titles.csv')\n",
    "df_file_csv.head()\n",
    "\n",
    "filtrar = df_file_csv[(df_file_csv['country']=='India')&(df_file_csv['release_year']> 2020) & (df_file_csv['duration']<'2 Seasons')]\n",
    "filtrar"
   ]
  },
  {
   "cell_type": "markdown",
   "metadata": {},
   "source": [
    "Eliminar Datos Duplicados: Se usa drop_duplicates()"
   ]
  },
  {
   "cell_type": "code",
   "execution_count": null,
   "metadata": {},
   "outputs": [],
   "source": [
    "\n",
    "df_file_csv.info()\n",
    "data_sin_duplicados = df_file_csv.drop_duplicates()\n",
    "data_sin_duplicados"
   ]
  },
  {
   "cell_type": "code",
   "execution_count": null,
   "metadata": {},
   "outputs": [],
   "source": [
    "# Rellenar los valores nulos con el valor 0\n",
    "df_con_ceros = df_file_csv.fillna(0.0)\n",
    "df_con_ceros"
   ]
  },
  {
   "cell_type": "code",
   "execution_count": null,
   "metadata": {},
   "outputs": [],
   "source": [
    "#Eliminar los valores nulos (0.0)\n",
    "df_sin_nulos = df_file_csv.dropna()\n",
    "df_sin_nulos"
   ]
  },
  {
   "cell_type": "code",
   "execution_count": null,
   "metadata": {},
   "outputs": [
    {
     "name": "stdout",
     "output_type": "stream",
     "text": [
      "Axes(0.125,0.11;0.775x0.77)\n"
     ]
    },
    {
     "data": {
      "image/png": "[encoded data removed]",
      "text/plain": [
       "<Figure size 640x480 with 1 Axes>"
      ]
     },
     "metadata": {},
     "output_type": "display_data"
    }
   ],
   "source": [
    "#Crea un gráfico a partir de los datos de un DataFrame.\n",
    "print(df_sin_nulos.plot())"
   ]
  },
  {
   "cell_type": "code",
   "execution_count": 57,
   "metadata": {},
   "outputs": [
    {
     "name": "stdout",
     "output_type": "stream",
     "text": [
      "   ITEM NOMBRES  APELLIDOS        Programa     Genero  Matematicas  Español  \\\n",
      "0     1    Juan     García    Contabilidad  Masculino         1.66     2.19   \n",
      "1     2   María      Pérez        Mercadeo   Femenino         3.21     2.54   \n",
      "2     3   Pedro  Fernández        Sistemas  Masculino         3.10     3.11   \n",
      "3     4     Ana    Sánchez  Administracion   Femenino          NaN     2.50   \n",
      "4     5    Luis   González           Salud  Masculino         2.91     2.59   \n",
      "\n",
      "   Ciencias  Idiomas  \n",
      "0      3.56     2.58  \n",
      "1      1.98     3.76  \n",
      "2      2.62     2.42  \n",
      "3      3.66     1.93  \n",
      "4      2.45      NaN  \n"
     ]
    }
   ],
   "source": [
    "#Gestion de archivos excel\n",
    "datasetExcel = pd.read_excel('./Datos/Calificaciones.xlsx')\n",
    "datasetExcel\n",
    "\n",
    "print(datasetExcel.head())"
   ]
  },
  {
   "cell_type": "markdown",
   "metadata": {},
   "source": [
    "URLs:"
   ]
  },
  {
   "cell_type": "code",
   "execution_count": null,
   "metadata": {},
   "outputs": [],
   "source": [
    "#URL de archivo plano en cualquier host - Github\n",
    "url = 'https://raw.githubusercontent.com/rubisabel00/ciencias-de-datos-Sena/main/DocumentosNB03/clientes.csv'\n",
    "datasetClientes = pd.read_csv(url, sep=',', encoding='utf-8')\n",
    "print(datasetClientes.head())"
   ]
  },
  {
   "cell_type": "code",
   "execution_count": 7,
   "metadata": {},
   "outputs": [
    {
     "name": "stdout",
     "output_type": "stream",
     "text": [
      "    ID                Nombre                   Autor    ISBN           Género  \\\n",
      "1    1  La Sombra del Viento       Carlos Ruiz Zafón  250203    Novela Gótica   \n",
      "5    5   La cándida eréndira  Gabriel García Márquez  225522         Alegoría   \n",
      "8    8          La República                  Platón  311217  Ensayo Político   \n",
      "10  10             Christine            Stephen King  252525           Horror   \n",
      "\n",
      "    Cantidad  \n",
      "1          2  \n",
      "5          2  \n",
      "8          2  \n",
      "10         1  \n"
     ]
    }
   ],
   "source": [
    "# URL para exportar en formato Excel\n",
    "url = 'https://docs.google.com/spreadsheets/d/1__aqRfwf_t2FaRSngLjb8Rbh4muREINo/export?format=xlsx'\n",
    "\n",
    "# Leer el archivo de Google Drive en formato Excel\n",
    "datasetLibros = pd.read_excel(url)\n",
    "\n",
    "# Imprimir el DataFrame\n",
    "# print(datasetLibros)\n",
    "# print(datasetLibros.head())\n",
    "\n",
    "# filtrarLibros = datasetLibros[(datasetLibros['Nombre']=='La Sombra del Viento')]\n",
    "# print(filtrarLibros)\n",
    "\n",
    "# filtrarLibros = datasetLibros[(datasetLibros['Cantidad']>4)]\n",
    "# print(filtrarLibros)\n",
    "\n",
    "filtrarLibros = datasetLibros[(datasetLibros['Cantidad']<3)]\n",
    "print(filtrarLibros)"
   ]
  }
 ],
 "metadata": {
  "kernelspec": {
   "display_name": ".venv",
   "language": "python",
   "name": "python3"
  },
  "language_info": {
   "codemirror_mode": {
    "name": "ipython",
    "version": 3
   },
   "file_extension": ".py",
   "mimetype": "text/x-python",
   "name": "python",
   "nbconvert_exporter": "python",
   "pygments_lexer": "ipython3",
   "version": "3.12.6"
  }
 },
 "nbformat": 4,
 "nbformat_minor": 2
}

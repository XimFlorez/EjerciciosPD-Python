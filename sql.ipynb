{
 "cells": [
  {
   "cell_type": "code",
   "execution_count": 1,
   "metadata": {},
   "outputs": [],
   "source": [
    "import sqlite3\n",
    "import pandas as pd"
   ]
  },
  {
   "cell_type": "markdown",
   "metadata": {},
   "source": [
    "*1. ¿Cúal es el ingreso total generado por el negocio?*"
   ]
  },
  {
   "cell_type": "code",
   "execution_count": 10,
   "metadata": {},
   "outputs": [
    {
     "name": "stdout",
     "output_type": "stream",
     "text": [
      " Ingreso total generado por el negocio es: 39,854,875.32\n"
     ]
    }
   ],
   "source": [
    "#Conexión a la base de datos\n",
    "conexion = sqlite3.connect('./Datos/sanoyfresco.db')\n",
    "\n",
    "total_ventas = pd.read_sql_query(\"\"\"SELECT SUM(precio_total) AS ingreso_total FROM tickets\"\"\", conexion)\n",
    "print(f\" Ingreso total generado por el negocio es: {total_ventas['ingreso_total'][0]:,.2f}\")\n",
    "\n",
    "conexion.close()"
   ]
  },
  {
   "cell_type": "markdown",
   "metadata": {},
   "source": [
    "*2. ¿Cúal ha sido la tendencia de ingresos mensuales?*"
   ]
  },
  {
   "cell_type": "code",
   "execution_count": null,
   "metadata": {},
   "outputs": [
    {
     "name": "stdout",
     "output_type": "stream",
     "text": [
      "\n",
      "Tendencia de ingresos mensuales\n",
      "        mes  ingresos_mensuales\n",
      "0   2023-01          6673099.74\n",
      "1   2023-02          4945202.53\n",
      "2   2023-03          4725676.75\n",
      "3   2023-04          3994824.12\n",
      "4   2023-05          3626726.78\n",
      "5   2023-06          3125001.00\n",
      "6   2023-07          2937364.05\n",
      "7   2023-08          2533350.46\n",
      "8   2023-09          2343858.92\n",
      "9   2023-10          2127269.84\n",
      "10  2023-11          1637899.98\n",
      "11  2023-12          1184601.15\n"
     ]
    }
   ],
   "source": [
    "conexion = sqlite3.connect('./Datos/sanoyfresco.db')\n",
    "\n",
    "tendencia_ventas = pd.read_sql_query(\"\"\"SELECT strftime('%Y-%m', fecha) AS mes, SUM(precio_total) AS ingresos_mensuales\n",
    "                                        FROM tickets    \n",
    "                                        GROUP BY mes\n",
    "                                        ORDER BY mes\"\"\", conexion)\n",
    "print(\"\\nTendencia de ingresos mensuales\") \n",
    "print(tendencia_ventas)\n",
    "\n",
    "conexion.close()"
   ]
  },
  {
   "cell_type": "markdown",
   "metadata": {},
   "source": [
    "*3. ¿Cuál es el rendimiento de cada departamento en términos de ventas?*"
   ]
  },
  {
   "cell_type": "code",
   "execution_count": null,
   "metadata": {},
   "outputs": [
    {
     "name": "stdout",
     "output_type": "stream",
     "text": [
      "\n",
      "Ventas por Departamento\n",
      "   id_departamento  ventas_totales\n",
      "0                4     37003251.70\n",
      "1               16      1529354.77\n",
      "2               20       946220.85\n",
      "3                7       376048.00\n"
     ]
    }
   ],
   "source": [
    "conexion = sqlite3.connect('./Datos/sanoyfresco.db')\n",
    "\n",
    "rendimiento_departamentos = pd.read_sql_query(\"\"\"\n",
    "    SELECT id_departamento, SUM(precio_total) AS ventas_totales\n",
    "    FROM tickets\n",
    "    GROUP BY id_departamento\n",
    "    ORDER BY ventas_totales DESC\n",
    "\"\"\", conexion)\n",
    "\n",
    "print(\"\\nVentas por Departamento\") \n",
    "print(rendimiento_departamentos)\n",
    "\n",
    "conexion.close()\n"
   ]
  },
  {
   "cell_type": "markdown",
   "metadata": {},
   "source": [
    "*4. ¿Cómo se distribuyen las ventas entre las diferentes secciones?*"
   ]
  },
  {
   "cell_type": "code",
   "execution_count": null,
   "metadata": {},
   "outputs": [
    {
     "name": "stdout",
     "output_type": "stream",
     "text": [
      "\n",
      "Distribución de Ventas por Sección\n",
      "   id_seccion  ventas_por_seccion\n",
      "0          24         20879374.69\n",
      "1         123          8634823.85\n",
      "2          83          7237312.87\n",
      "3          67           946220.85\n",
      "4          53           821420.62\n",
      "5          84           707934.15\n",
      "6         115           376048.00\n",
      "7          16           251740.29\n"
     ]
    }
   ],
   "source": [
    "conexion = sqlite3.connect('./Datos/sanoyfresco.db')\n",
    "\n",
    "ventas_por_seccion = pd.read_sql_query(\"\"\"\n",
    "    SELECT id_seccion, SUM(precio_total) AS ventas_por_seccion\n",
    "    FROM tickets\n",
    "    GROUP BY id_seccion\n",
    "    ORDER BY ventas_por_seccion DESC\n",
    "\"\"\", conexion)\n",
    "\n",
    "print(\"\\nDistribución de Ventas por Sección\") \n",
    "print(ventas_por_seccion)\n",
    "\n",
    "conexion.close()"
   ]
  },
  {
   "cell_type": "markdown",
   "metadata": {},
   "source": [
    "*5. ¿Cuáles son los 10 productos más vendidos en cantidad?*"
   ]
  },
  {
   "cell_type": "code",
   "execution_count": 9,
   "metadata": {},
   "outputs": [
    {
     "name": "stdout",
     "output_type": "stream",
     "text": [
      "\n",
      "Los 10 Productos Más vendidos en Cantidad\n",
      "              nombre_producto  total_vendido\n",
      "0                      Banana        2460324\n",
      "1  Bolsa de Bananas Orgánicas        1976709\n",
      "2            Fresas Orgánicas        1381309\n",
      "3    Espinacas Baby Orgánicas        1258330\n",
      "4      Aguacate Hass Orgánico        1104957\n",
      "5           Aguacate Orgánico         923461\n",
      "6                Limón Grande         804752\n",
      "7                      Fresas         748065\n",
      "8                     Limones         733736\n",
      "9       Leche Entera Orgánica         715085\n"
     ]
    }
   ],
   "source": [
    "conexion = sqlite3.connect('./Datos/sanoyfresco.db')\n",
    "\n",
    "productos_mas_vendidos = pd.read_sql_query(\"\"\"\n",
    "    SELECT nombre_producto, SUM(cantidad) AS total_vendido\n",
    "    FROM tickets\n",
    "    GROUP BY nombre_producto\n",
    "    ORDER BY total_vendido DESC\n",
    "    LIMIT 10\n",
    "\"\"\", conexion)\n",
    "\n",
    "print(\"\\nLos 10 Productos Más vendidos en Cantidad\") \n",
    "print(productos_mas_vendidos)\n",
    "\n",
    "conexion.close()"
   ]
  },
  {
   "cell_type": "markdown",
   "metadata": {},
   "source": [
    "*6. ¿Cuáles son los 10 productos que generan más ingresos?*"
   ]
  },
  {
   "cell_type": "code",
   "execution_count": 8,
   "metadata": {},
   "outputs": [
    {
     "name": "stdout",
     "output_type": "stream",
     "text": [
      "\n",
      "Los 10 Productos que Generan Más Ingresos\n",
      "              nombre_producto  ingresos_totales\n",
      "0  Bolsa de Bananas Orgánicas        4842937.05\n",
      "1            Fresas Orgánicas        3439459.41\n",
      "2                      Banana        2583340.20\n",
      "3        Frambuesas Orgánicas        2032919.25\n",
      "4      Aguacate Hass Orgánico        1977873.03\n",
      "5    Espinacas Baby Orgánicas        1874911.70\n",
      "6           Aguacate Orgánico        1616056.75\n",
      "7                      Fresas        1533533.25\n",
      "8         Arándanos Orgánicos        1444778.50\n",
      "9    Tomates Cherry Orgánicos        1128040.95\n"
     ]
    }
   ],
   "source": [
    "conexion = sqlite3.connect('./Datos/sanoyfresco.db')\n",
    "\n",
    "productos_mayores_ingresos = pd.read_sql_query(\"\"\"\n",
    "    SELECT nombre_producto, SUM(precio_total) AS ingresos_totales\n",
    "    FROM tickets\n",
    "    GROUP BY nombre_producto\n",
    "    ORDER BY ingresos_totales DESC\n",
    "    LIMIT 10\n",
    "\"\"\", conexion)\n",
    "\n",
    "print(\"\\nLos 10 Productos que Generan Más Ingresos\") \n",
    "print(productos_mayores_ingresos)\n",
    "\n",
    "conexion.close()"
   ]
  },
  {
   "cell_type": "markdown",
   "metadata": {},
   "source": [
    "*7. ¿Quiénes son los 20 clientes que más compran en términos de ingresos?*"
   ]
  },
  {
   "cell_type": "code",
   "execution_count": 7,
   "metadata": {},
   "outputs": [
    {
     "name": "stdout",
     "output_type": "stream",
     "text": [
      "\n",
      "Los 20 Clientes que más generan Ingresos:\n",
      "    id_cliente  ingresos_totales\n",
      "0       189425           4784.44\n",
      "1       145686           4656.01\n",
      "2        95967           4441.07\n",
      "3        67870           4381.49\n",
      "4        51256           4280.17\n",
      "5       108031           4170.37\n",
      "6       105213           4164.07\n",
      "7        66806           4010.08\n",
      "8       153932           3966.09\n",
      "9       143296           3887.86\n",
      "10      175294           3886.68\n",
      "11        1197           3883.76\n",
      "12       62239           3873.40\n",
      "13        5665           3862.69\n",
      "14       31552           3852.53\n",
      "15      132274           3842.65\n",
      "16       14868           3836.05\n",
      "17      103634           3808.71\n",
      "18      132022           3803.13\n",
      "19       94701           3783.81\n"
     ]
    }
   ],
   "source": [
    "conexion = sqlite3.connect('./Datos/sanoyfresco.db')\n",
    "\n",
    "clientes_mayores_ingresos = pd.read_sql_query(\"\"\"\n",
    "    SELECT id_cliente, SUM(precio_total) AS ingresos_totales\n",
    "    FROM tickets\n",
    "    GROUP BY id_cliente\n",
    "    ORDER BY ingresos_totales DESC\n",
    "    LIMIT 20\n",
    "\"\"\", conexion)\n",
    "\n",
    "print(\"\\nLos 20 Clientes que más generan Ingresos:\")\n",
    "print(clientes_mayores_ingresos)\n",
    "\n",
    "conexion.close()"
   ]
  },
  {
   "cell_type": "markdown",
   "metadata": {},
   "source": [
    "*8. ¿Cuál es la compra media por cliente?*"
   ]
  },
  {
   "cell_type": "code",
   "execution_count": 6,
   "metadata": {},
   "outputs": [
    {
     "name": "stdout",
     "output_type": "stream",
     "text": [
      "\n",
      "Compra Media por Cliente\n",
      "   compra_media\n",
      "0    219.099604\n"
     ]
    }
   ],
   "source": [
    "conexion = sqlite3.connect('./Datos/sanoyfresco.db')\n",
    "\n",
    "compra_media = pd.read_sql_query(\"\"\"\n",
    "    SELECT AVG(ingresos_cliente) AS compra_media\n",
    "    FROM (\n",
    "        SELECT id_cliente, SUM(precio_total) AS ingresos_cliente\n",
    "        FROM tickets\n",
    "        GROUP BY id_cliente\n",
    "    )\n",
    "\"\"\", conexion)\n",
    "\n",
    "print(\"\\nCompra Media por Cliente\")\n",
    "print(compra_media)\n",
    "\n",
    "conexion.close()"
   ]
  },
  {
   "cell_type": "markdown",
   "metadata": {},
   "source": [
    "*9. ¿Cuántos pedidos totales se han realizado?*"
   ]
  },
  {
   "cell_type": "code",
   "execution_count": 5,
   "metadata": {},
   "outputs": [
    {
     "name": "stdout",
     "output_type": "stream",
     "text": [
      "\n",
      "Total de Pedidos Realizados\n",
      "   total_pedidos\n",
      "0        2060188\n"
     ]
    }
   ],
   "source": [
    "conexion = sqlite3.connect('./Datos/sanoyfresco.db')\n",
    "\n",
    "total_pedidos = pd.read_sql_query(\"\"\"\n",
    "    SELECT COUNT(DISTINCT id_pedido) AS total_pedidos\n",
    "    FROM tickets\n",
    "\"\"\", conexion)\n",
    "\n",
    "print(\"\\nTotal de Pedidos Realizados\")\n",
    "print(total_pedidos)\n",
    "\n",
    "conexion.close()"
   ]
  },
  {
   "cell_type": "markdown",
   "metadata": {},
   "source": [
    "*10.¿Cuál es el valor promedio por pedido?*"
   ]
  },
  {
   "cell_type": "code",
   "execution_count": 4,
   "metadata": {},
   "outputs": [
    {
     "name": "stdout",
     "output_type": "stream",
     "text": [
      "\n",
      "Valor Promedio por Pedido\n",
      "   valor_promedio_pedido\n",
      "0              19.345261\n"
     ]
    }
   ],
   "source": [
    "conexion = sqlite3.connect('./Datos/sanoyfresco.db')\n",
    "\n",
    "valor_promedio_pedido = pd.read_sql_query(\"\"\"\n",
    "    SELECT (SUM(precio_total) / COUNT(DISTINCT id_pedido)) AS valor_promedio_pedido\n",
    "    FROM tickets\n",
    "\"\"\", conexion)\n",
    "\n",
    "print(\"\\nValor Promedio por Pedido\")\n",
    "print(valor_promedio_pedido)\n",
    "\n",
    "conexion.close()"
   ]
  }
 ],
 "metadata": {
  "kernelspec": {
   "display_name": ".venv",
   "language": "python",
   "name": "python3"
  },
  "language_info": {
   "codemirror_mode": {
    "name": "ipython",
    "version": 3
   },
   "file_extension": ".py",
   "mimetype": "text/x-python",
   "name": "python",
   "nbconvert_exporter": "python",
   "pygments_lexer": "ipython3",
   "version": "3.12.6"
  }
 },
 "nbformat": 4,
 "nbformat_minor": 2
}
